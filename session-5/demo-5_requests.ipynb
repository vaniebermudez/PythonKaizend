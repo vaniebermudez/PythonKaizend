{
 "cells": [
  {
   "cell_type": "code",
   "execution_count": 3,
   "metadata": {},
   "outputs": [
    {
     "name": "stdout",
     "output_type": "stream",
     "text": [
      "http://sample-target-bucket-with-html-pages.s3-website-ap-southeast-1.amazonaws.com/index.html\n",
      "<html>\n",
      "    <body>\n",
      "        Hello World\n",
      "    </body>\n",
      "</html>\n"
     ]
    }
   ],
   "source": [
    "import requests\n",
    "from IPython import embed\n",
    "\n",
    "BASE_URL = \"http://sample-target-bucket-with-html-pages.s3-website-ap-southeast-1.amazonaws.com\"\n",
    "\n",
    "def extract_html_content(target_url):\n",
    "    response = requests.get(target_url)\n",
    "    return response.text\n",
    "\n",
    "def main():\n",
    "    target_page = BASE_URL + '/index.html'\n",
    "    print(target_page)\n",
    "    \n",
    "    html_content = extract_html_content(target_page)\n",
    "    \n",
    "    print(html_content)\n",
    "    #embed()\n",
    "    \n",
    "if __name__ == \"__main__\":\n",
    "    main()"
   ]
  },
  {
   "cell_type": "code",
   "execution_count": null,
   "metadata": {},
   "outputs": [],
   "source": []
  }
 ],
 "metadata": {
  "kernelspec": {
   "display_name": "Python 3",
   "language": "python",
   "name": "python3"
  },
  "language_info": {
   "codemirror_mode": {
    "name": "ipython",
    "version": 3
   },
   "file_extension": ".py",
   "mimetype": "text/x-python",
   "name": "python",
   "nbconvert_exporter": "python",
   "pygments_lexer": "ipython3",
   "version": "3.7.6"
  }
 },
 "nbformat": 4,
 "nbformat_minor": 4
}
