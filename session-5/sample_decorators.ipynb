{
 "cells": [
  {
   "cell_type": "code",
   "execution_count": 1,
   "metadata": {},
   "outputs": [
    {
     "name": "stdout",
     "output_type": "stream",
     "text": [
      "upon wrapping\n",
      "before calling target function\n",
      "5\n",
      "some function\n",
      "after calling target function\n",
      "before calling target function\n",
      "another function\n",
      "after calling target function\n"
     ]
    }
   ],
   "source": [
    "from functools import wraps\n",
    "\n",
    "\n",
    "def sample_decorator(target_function):\n",
    "    print('upon wrapping')\n",
    "    \n",
    "    def wrapper(*args, **kwargs):\n",
    "        print('before calling target function')\n",
    "        output = target_function(*args, **kwargs)\n",
    "        print('after calling target function')\n",
    "        \n",
    "        return output\n",
    "    \n",
    "    return wrapper\n",
    "def sample_decorator_with_parameter(sample_param):\n",
    "    def inner_function(target_function):\n",
    "        @wraps(target_function)\n",
    "        def wrapper(*args, **kwargs):\n",
    "            print('before calling target function')\n",
    "            print(sample_param)\n",
    "            output = target_function(*args, **kwargs)\n",
    "            print('after calling target function')\n",
    "            \n",
    "            return output\n",
    "            \n",
    "        return wrapper\n",
    "    \n",
    "    return inner_function\n",
    "@sample_decorator_with_parameter(sample_param=5)\n",
    "def some_function():\n",
    "    print('some function')\n",
    "\n",
    "\n",
    "\n",
    "@sample_decorator\n",
    "def another_function():\n",
    "    print('another function')\n",
    "\n",
    "\n",
    "\n",
    "def main():\n",
    "    some_function()\n",
    "    another_function()\n",
    "\n",
    "\n",
    "if __name__ == \"__main__\":\n",
    "    main()"
   ]
  },
  {
   "cell_type": "code",
   "execution_count": null,
   "metadata": {},
   "outputs": [],
   "source": []
  }
 ],
 "metadata": {
  "kernelspec": {
   "display_name": "Python 3",
   "language": "python",
   "name": "python3"
  },
  "language_info": {
   "codemirror_mode": {
    "name": "ipython",
    "version": 3
   },
   "file_extension": ".py",
   "mimetype": "text/x-python",
   "name": "python",
   "nbconvert_exporter": "python",
   "pygments_lexer": "ipython3",
   "version": "3.7.6"
  }
 },
 "nbformat": 4,
 "nbformat_minor": 4
}
