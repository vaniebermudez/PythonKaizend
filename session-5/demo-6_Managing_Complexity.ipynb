{
 "cells": [
  {
   "cell_type": "code",
   "execution_count": 6,
   "metadata": {},
   "outputs": [
    {
     "name": "stdout",
     "output_type": "stream",
     "text": [
      "a = 3\n",
      "start\n",
      "1\n",
      "end\n"
     ]
    }
   ],
   "source": [
    "from contextlib import contextmanager \n",
    "\n",
    "@contextmanager\n",
    "def do_something(a):\n",
    "    print(f\"a = {a}\")\n",
    "    print(\"start\")\n",
    "    yield 1\n",
    "    print(\"end\")\n",
    "\n",
    "def main():\n",
    "    with do_something(3) as x:\n",
    "        print(x)\n",
    "        \n",
    "if __name__ == \"__main__\":\n",
    "    main()"
   ]
  },
  {
   "cell_type": "code",
   "execution_count": null,
   "metadata": {},
   "outputs": [],
   "source": []
  }
 ],
 "metadata": {
  "kernelspec": {
   "display_name": "Python 3",
   "language": "python",
   "name": "python3"
  },
  "language_info": {
   "codemirror_mode": {
    "name": "ipython",
    "version": 3
   },
   "file_extension": ".py",
   "mimetype": "text/x-python",
   "name": "python",
   "nbconvert_exporter": "python",
   "pygments_lexer": "ipython3",
   "version": "3.7.6"
  }
 },
 "nbformat": 4,
 "nbformat_minor": 4
}
