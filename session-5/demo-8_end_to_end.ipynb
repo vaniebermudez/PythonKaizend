{
 "cells": [
  {
   "cell_type": "code",
   "execution_count": 1,
   "metadata": {},
   "outputs": [
    {
     "name": "stdout",
     "output_type": "stream",
     "text": [
      "Sleeping for 3 second(s)\n",
      "http://sample-target-bucket-with-html-pages.s3-website-ap-southeast-1.amazonaws.com/1.html\n",
      "Sleeping for 3 second(s)\n",
      "http://sample-target-bucket-with-html-pages.s3-website-ap-southeast-1.amazonaws.com/2.html\n",
      "Sleeping for 1 second(s)\n",
      "http://sample-target-bucket-with-html-pages.s3-website-ap-southeast-1.amazonaws.com/3.html\n",
      "Sleeping for 1 second(s)\n",
      "http://sample-target-bucket-with-html-pages.s3-website-ap-southeast-1.amazonaws.com/4.html\n",
      "Sleeping for 4 second(s)\n",
      "http://sample-target-bucket-with-html-pages.s3-website-ap-southeast-1.amazonaws.com/5.html\n"
     ]
    }
   ],
   "source": [
    "import random\n",
    "\n",
    "from IPython import embed\n",
    "from time import sleep\n",
    "\n",
    "BASE_URL = \"http://sample-target-bucket-with-html-pages.s3-website-ap-southeast-1.amazonaws.com\"\n",
    "\n",
    "PAGES = [\"1.html\",\n",
    "         \"2.html\",\n",
    "         \"3.html\",\n",
    "         \"4.html\",\n",
    "         \"5.html\",\n",
    "        ]\n",
    "\n",
    "def delay(seconds):\n",
    "    print(f\"Sleeping for {seconds} second(s)\")\n",
    "    sleep(seconds)\n",
    "    \n",
    "def get_random_number():\n",
    "    return random.randint(1,5)\n",
    "\n",
    "def main():\n",
    "    for page in PAGES:\n",
    "        delay(get_random_number())\n",
    "        print(BASE_URL + \"/\" + page)\n",
    "\n",
    "if __name__ == \"__main__\":\n",
    "    main()"
   ]
  },
  {
   "cell_type": "code",
   "execution_count": null,
   "metadata": {},
   "outputs": [],
   "source": []
  }
 ],
 "metadata": {
  "kernelspec": {
   "display_name": "Python 3",
   "language": "python",
   "name": "python3"
  },
  "language_info": {
   "codemirror_mode": {
    "name": "ipython",
    "version": 3
   },
   "file_extension": ".py",
   "mimetype": "text/x-python",
   "name": "python",
   "nbconvert_exporter": "python",
   "pygments_lexer": "ipython3",
   "version": "3.7.6"
  }
 },
 "nbformat": 4,
 "nbformat_minor": 4
}
