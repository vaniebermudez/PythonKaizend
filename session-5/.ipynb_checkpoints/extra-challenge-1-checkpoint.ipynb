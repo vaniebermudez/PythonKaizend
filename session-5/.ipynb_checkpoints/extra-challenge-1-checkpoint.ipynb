{
 "cells": [
  {
   "cell_type": "code",
   "execution_count": 4,
   "metadata": {},
   "outputs": [],
   "source": [
    "from time import sleep\n",
    "from functools import wraps"
   ]
  },
  {
   "cell_type": "code",
   "execution_count": 9,
   "metadata": {},
   "outputs": [],
   "source": [
    "def delay(seconds):  #decorator\n",
    "    output = None\n",
    "    print(seconds)\n",
    "    \n",
    "    def inner_function(function):\n",
    "        #insert code here\n",
    "        \n",
    "        @wraps(function)\n",
    "        def wrapper(*args, **kwargs):\n",
    "            print(\"start\")\n",
    "            sleep(seconds)\n",
    "            output = function(*args, **kwargs)\n",
    "            print('end')\n",
    "            return output\n",
    "        \n",
    "        \n",
    "        return wrapper\n",
    "    \n",
    "    return inner_function"
   ]
  },
  {
   "cell_type": "code",
   "execution_count": 13,
   "metadata": {},
   "outputs": [
    {
     "name": "stdout",
     "output_type": "stream",
     "text": [
      "2\n",
      "2\n"
     ]
    }
   ],
   "source": [
    "@delay(seconds=2)\n",
    "def say_something(word):\n",
    "    print(word)\n",
    "    \n",
    "@delay(seconds=2)\n",
    "def say_another(word):\n",
    "    print(word)"
   ]
  },
  {
   "cell_type": "code",
   "execution_count": 14,
   "metadata": {},
   "outputs": [],
   "source": [
    "def main():\n",
    "    say_something('hello')\n",
    "    say_another('world')"
   ]
  },
  {
   "cell_type": "code",
   "execution_count": 15,
   "metadata": {},
   "outputs": [
    {
     "name": "stdout",
     "output_type": "stream",
     "text": [
      "start\n",
      "hello\n",
      "end\n",
      "start\n",
      "world\n",
      "end\n"
     ]
    }
   ],
   "source": [
    "if __name__ == \"__main__\":\n",
    "    main()"
   ]
  }
 ],
 "metadata": {
  "kernelspec": {
   "display_name": "Python 3",
   "language": "python",
   "name": "python3"
  },
  "language_info": {
   "codemirror_mode": {
    "name": "ipython",
    "version": 3
   },
   "file_extension": ".py",
   "mimetype": "text/x-python",
   "name": "python",
   "nbconvert_exporter": "python",
   "pygments_lexer": "ipython3",
   "version": "3.7.6"
  }
 },
 "nbformat": 4,
 "nbformat_minor": 4
}
