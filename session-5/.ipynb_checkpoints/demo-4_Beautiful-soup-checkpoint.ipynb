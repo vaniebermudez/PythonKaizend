{
 "cells": [
  {
   "cell_type": "code",
   "execution_count": 3,
   "metadata": {},
   "outputs": [
    {
     "name": "stdout",
     "output_type": "stream",
     "text": [
      "Hello World!\n"
     ]
    }
   ],
   "source": [
    "from bs4 import BeautifulSoup\n",
    "from IPython import embed\n",
    "\n",
    "def generate_html():\n",
    "    return \"\"\"\n",
    "        <html>\n",
    "            <head></head>\n",
    "            <body>\n",
    "                <div id='target'>Hello World!</div>\n",
    "            </body>\n",
    "        </html>\n",
    "    \"\"\"\n",
    "\n",
    "def main():\n",
    "    html_doc = generate_html()\n",
    "    soup = BeautifulSoup(html_doc, 'html.parser')\n",
    "    target = soup.find(id='target')\n",
    "\n",
    "    print(target.get_text())\n",
    "\n",
    "if __name__ == \"__main__\":\n",
    "    main()"
   ]
  },
  {
   "cell_type": "code",
   "execution_count": null,
   "metadata": {},
   "outputs": [],
   "source": []
  }
 ],
 "metadata": {
  "kernelspec": {
   "display_name": "Python 3",
   "language": "python",
   "name": "python3"
  },
  "language_info": {
   "codemirror_mode": {
    "name": "ipython",
    "version": 3
   },
   "file_extension": ".py",
   "mimetype": "text/x-python",
   "name": "python",
   "nbconvert_exporter": "python",
   "pygments_lexer": "ipython3",
   "version": "3.7.6"
  }
 },
 "nbformat": 4,
 "nbformat_minor": 4
}
