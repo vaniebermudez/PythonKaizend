{
 "cells": [
  {
   "cell_type": "code",
   "execution_count": 11,
   "metadata": {},
   "outputs": [
    {
     "name": "stdout",
     "output_type": "stream",
     "text": [
      "START: Job 1\n",
      "TARGET_URL = <url>\n",
      "SELECTOR = <selector>\n",
      "SAVE_FILE = <filename>\n",
      "END: Job 1\n",
      "START: Job 2\n",
      "TARGET_URL = <url 2>\n",
      "SELECTOR = <selector 2>\n",
      "SAVE_FILE = <filename 2>\n",
      "END: Job 2\n",
      "START: Job 3\n",
      "TARGET_URL = <url 3>\n",
      "SELECTOR = <selector 3>\n",
      "SAVE_FILE = <filename 3>\n",
      "END: Job 3\n"
     ]
    }
   ],
   "source": [
    "from contextlib import contextmanager\n",
    "\n",
    "class Job:\n",
    "    def __init__(self, target_url=None, selector=None, save_file=None):\n",
    "        self.target_url = target_url\n",
    "        self.selector = selector\n",
    "        self.save_file = save_file\n",
    "\n",
    "@contextmanager\n",
    "def scraping_job(label):\n",
    "    print(f\"START: {label}\")\n",
    "    job = Job()\n",
    "    yield job\n",
    "    print(f\"TARGET_URL = {job.target_url}\")\n",
    "    print(f\"SELECTOR = {job.selector}\")\n",
    "    print(f\"SAVE_FILE = {job.save_file}\")\n",
    "    print(f\"END: {label}\")\n",
    "    \n",
    "    \n",
    "def main():\n",
    "    with scraping_job(\"Job 1\") as job:\n",
    "        job.target_url = \"<url>\"\n",
    "        job.selector = \"<selector>\"\n",
    "        job.save_file = \"<filename>\"\n",
    "    \n",
    "    with scraping_job(\"Job 2\") as job:\n",
    "        job.target_url = \"<url 2>\"\n",
    "        job.selector = \"<selector 2>\"\n",
    "        job.save_file = \"<filename 2>\"\n",
    "    \n",
    "    with scraping_job(\"Job 3\") as job:\n",
    "        job.target_url = \"<url 3>\"\n",
    "        job.selector = \"<selector 3>\"\n",
    "        job.save_file = \"<filename 3>\"\n",
    "\n",
    "if __name__ == \"__main__\":\n",
    "    main()"
   ]
  },
  {
   "cell_type": "code",
   "execution_count": null,
   "metadata": {},
   "outputs": [],
   "source": []
  }
 ],
 "metadata": {
  "kernelspec": {
   "display_name": "Python 3",
   "language": "python",
   "name": "python3"
  },
  "language_info": {
   "codemirror_mode": {
    "name": "ipython",
    "version": 3
   },
   "file_extension": ".py",
   "mimetype": "text/x-python",
   "name": "python",
   "nbconvert_exporter": "python",
   "pygments_lexer": "ipython3",
   "version": "3.7.6"
  }
 },
 "nbformat": 4,
 "nbformat_minor": 4
}
