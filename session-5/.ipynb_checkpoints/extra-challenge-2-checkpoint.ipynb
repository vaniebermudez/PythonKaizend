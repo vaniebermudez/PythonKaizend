{
 "cells": [
  {
   "cell_type": "code",
   "execution_count": 1,
   "metadata": {},
   "outputs": [
    {
     "name": "stdout",
     "output_type": "stream",
     "text": [
      "[INPUT] ARGS: ('hello',)\n",
      "[INPUT] KWARGS: {}\n",
      "hello\n",
      "[OUTPUT]: None\n"
     ]
    }
   ],
   "source": [
    "def debug_input_and_output(func):\n",
    "    def wrapper(*args, **kwargs):\n",
    "        print(f\"[INPUT] ARGS: {args}\")\n",
    "        print(f\"[INPUT] KWARGS: {kwargs}\")\n",
    "        \n",
    "        output = func(*args, **kwargs)\n",
    "        \n",
    "        print(f\"[OUTPUT]: {output}\")\n",
    "        \n",
    "        return output\n",
    "    \n",
    "    return wrapper\n",
    "\n",
    "\n",
    "@debug_input_and_output\n",
    "def say_something(word):\n",
    "    print(word)\n",
    "\n",
    "\n",
    "def main():\n",
    "    say_something(\"hello\")\n",
    "    \n",
    "\n",
    "if __name__ == \"__main__\":\n",
    "    main()\n"
   ]
  },
  {
   "cell_type": "code",
   "execution_count": null,
   "metadata": {},
   "outputs": [],
   "source": []
  }
 ],
 "metadata": {
  "kernelspec": {
   "display_name": "Python 3",
   "language": "python",
   "name": "python3"
  },
  "language_info": {
   "codemirror_mode": {
    "name": "ipython",
    "version": 3
   },
   "file_extension": ".py",
   "mimetype": "text/x-python",
   "name": "python",
   "nbconvert_exporter": "python",
   "pygments_lexer": "ipython3",
   "version": "3.7.6"
  }
 },
 "nbformat": 4,
 "nbformat_minor": 4
}
