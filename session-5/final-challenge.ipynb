{
 "cells": [
  {
   "cell_type": "code",
   "execution_count": 4,
   "metadata": {
    "scrolled": true
   },
   "outputs": [
    {
     "name": "stdout",
     "output_type": "stream",
     "text": [
      "Downloading HTML content of https://sample-target-bucket-with-html-pages.s3-ap-southeast-1.amazonaws.com/group3/target.html\n",
      "apache2.conf is the main configuration file. It puts the pieces together by including all remaining configuration files when starting up the web server.\n",
      "\n",
      "ports.conf is always included from the main configuration file. It is used to determine the listening ports for incoming connections, and this file can be customized anytime.\n",
      "\n",
      "Configuration files in the mods-enabled/, conf-enabled/ and sites-enabled/ directories contain particular configuration snippets which manage modules, global configuration fragments, or virtual host configurations, respectively.\n",
      "\n",
      "They are activated by symlinking available configuration files from their respective *-available/ counterparts. These should be managed by using our helpers a2enmod, a2dismod, a2ensite, a2dissite, and a2enconf, a2disconf . See their respective man pages for detailed information.\n",
      "\n",
      "The binary is called apache2. Due to the use of environment variables, in the default configuration, apache2 needs to be started/stopped with /etc/init.d/apache2 or apache2ctl. Calling /usr/bin/apache2 directly will not work with the default configuration.\n",
      "\n"
     ]
    }
   ],
   "source": [
    "import random\n",
    "import requests\n",
    "import re\n",
    "\n",
    "from IPython import embed\n",
    "from time import sleep\n",
    "from bs4 import BeautifulSoup\n",
    "\n",
    "BASE_URL = \"https://sample-target-bucket-with-html-pages.s3-ap-southeast-1.amazonaws.com/group3/target.html\"\n",
    "\n",
    "def delay(seconds):\n",
    "    print(f\"Sleeping for {seconds} second(s)\")\n",
    "    sleep(seconds)\n",
    "\n",
    "def get_random_number():\n",
    "    return random.randint(1, 3)\n",
    "\n",
    "def extract_html_content(target_url):\n",
    "    print(f\"Downloading HTML content of {target_url}\")\n",
    "    response = requests.get(target_url)\n",
    "    return response.text\n",
    "\n",
    "\n",
    "def extract_target_value_from_page(html_string, selector, cond={}):\n",
    "    soup = BeautifulSoup(html_string, \"html.parser\")\n",
    "    elements = soup.find_all(selector, cond)\n",
    "    return elements\n",
    "\n",
    "def main():\n",
    "    target_page = BASE_URL\n",
    "\n",
    "    html_content = extract_html_content(target_page)\n",
    "    target_values = extract_target_value_from_page(html_content, \"li\")\n",
    "\n",
    "    for target_value in target_values:\n",
    "        clean_text = target_value.get_text()\n",
    "        clean_text = clean_text.strip().replace(\"\\n\", \"\")\n",
    "        clean_text = re.sub(' +', ' ', clean_text)\n",
    "\n",
    "        print(clean_text + \"\\n\")\n",
    "\n",
    "\n",
    "if __name__ == \"__main__\":\n",
    "    main()"
   ]
  },
  {
   "cell_type": "code",
   "execution_count": null,
   "metadata": {},
   "outputs": [],
   "source": []
  }
 ],
 "metadata": {
  "kernelspec": {
   "display_name": "Python 3",
   "language": "python",
   "name": "python3"
  },
  "language_info": {
   "codemirror_mode": {
    "name": "ipython",
    "version": 3
   },
   "file_extension": ".py",
   "mimetype": "text/x-python",
   "name": "python",
   "nbconvert_exporter": "python",
   "pygments_lexer": "ipython3",
   "version": "3.7.6"
  }
 },
 "nbformat": 4,
 "nbformat_minor": 4
}
