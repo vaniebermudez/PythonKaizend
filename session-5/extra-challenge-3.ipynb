{
 "cells": [
  {
   "cell_type": "code",
   "execution_count": 12,
   "metadata": {
    "scrolled": false
   },
   "outputs": [
    {
     "name": "stdout",
     "output_type": "stream",
     "text": [
      "yoh\n"
     ]
    }
   ],
   "source": [
    "import re\n",
    "\n",
    "from bs4 import BeautifulSoup\n",
    "\n",
    "\n",
    "def generate_html():\n",
    "    return \"\"\"\n",
    "        <html>\n",
    "          <head></head>\n",
    "          <body>\n",
    "            <a href=\"/a.html\">A</a>\n",
    "            <a href=\"/b.html\">B</a>\n",
    "            <a href=\"/c.html\">C</a>\n",
    "            <a href=\"/d.html\">D</a>\n",
    "            <script>\n",
    "              var hello = 'yoh';\n",
    "              alert(hello);\n",
    "            </script>\n",
    "          </body>\n",
    "        </html>\n",
    "    \"\"\"\n",
    "\n",
    "\n",
    "def main():\n",
    "    html_doc = generate_html()\n",
    "    soup = BeautifulSoup(html_doc, 'html.parser')\n",
    "\n",
    "    script_tags = soup.find_all('script')\n",
    "\n",
    "    target_script = script_tags[0].string.strip()\n",
    "    script_lines = target_script.split('\\n')\n",
    "\n",
    "    variable_value = extract_script_variable_value(script_lines[0], 'hello')\n",
    "    print(variable_value)\n",
    "\n",
    "\n",
    "def extract_script_variable_value(script_line, variable_name):\n",
    "    matches = re.match(f\"var {variable_name}(\\s?)=(\\s?)'(?P<value>\\D+)';\", script_line)\n",
    "\n",
    "    if not matches:\n",
    "        return\n",
    "\n",
    "    results = matches.groupdict()\n",
    "    return results.get('value')\n",
    "\n",
    "\n",
    "if __name__ == '__main__':\n",
    "    main()"
   ]
  },
  {
   "cell_type": "code",
   "execution_count": null,
   "metadata": {},
   "outputs": [],
   "source": []
  }
 ],
 "metadata": {
  "kernelspec": {
   "display_name": "Python 3",
   "language": "python",
   "name": "python3"
  }
 },
 "nbformat": 4,
 "nbformat_minor": 4
}
