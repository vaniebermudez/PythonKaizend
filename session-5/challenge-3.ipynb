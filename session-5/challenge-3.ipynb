{
 "cells": [
  {
   "cell_type": "code",
   "execution_count": null,
   "metadata": {},
   "outputs": [],
   "source": [
    "from bs4 import BeautifulSoup\n",
    "from IPython import embed\n",
    "\n",
    "def generate_html():\n",
    "    return \"\"\"\n",
    "        <html>\n",
    "            <head></head>\n",
    "            <body>\n",
    "                <a href='/a.html'>A</a>\n",
    "                <a href='/b.html'>B</a>\n",
    "                <a href='/c.html'>C</a>\n",
    "                <a href='/d.html'>D</a>\n",
    "            </body>\n",
    "        </html>\n",
    "    \"\"\"\n",
    "\n",
    "def main():\n",
    "    html_doc = generate_html()\n",
    "    soup = BeautifulSoup(html_doc, 'html.parser')\n",
    "    a_elements = soup.find_all('a')\n",
    "\n",
    "    #embed()\n",
    "    for link in a_elements:\n",
    "        print(link.get('href'))\n",
    "        #print(link['href'])\n",
    "\n",
    "if __name__ == \"__main__\":\n",
    "    main()"
   ]
  },
  {
   "cell_type": "code",
   "execution_count": null,
   "metadata": {},
   "outputs": [],
   "source": []
  }
 ],
 "metadata": {
  "kernelspec": {
   "display_name": "Python 3",
   "language": "python",
   "name": "python3"
  },
  "language_info": {
   "codemirror_mode": {
    "name": "ipython",
    "version": 3
   },
   "file_extension": ".py",
   "mimetype": "text/x-python",
   "name": "python",
   "nbconvert_exporter": "python",
   "pygments_lexer": "ipython3",
   "version": "3.7.6"
  }
 },
 "nbformat": 4,
 "nbformat_minor": 4
}
