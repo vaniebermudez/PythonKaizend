{
 "cells": [
  {
   "cell_type": "code",
   "execution_count": 9,
   "metadata": {},
   "outputs": [
    {
     "name": "stdout",
     "output_type": "stream",
     "text": [
      "START Job 1\n",
      "URL = <url>\n",
      "SELECTOR = <target>\n",
      "SAVE FILE = <filename>\n",
      "END = Job 1\n",
      "START Job 1\n",
      "URL = <url>\n",
      "SELECTOR = <target>\n",
      "SAVE FILE = <none>\n",
      "END = Job 1\n",
      "START Job 3\n",
      "URL = <url>\n",
      "SELECTOR = <none>\n",
      "SAVE FILE = <none>\n",
      "END = Job 3\n"
     ]
    }
   ],
   "source": [
    "class ScrapingJob(object):\n",
    "    def __init__(self, name):\n",
    "        self.name = name\n",
    "        self.url =\"<none>\"\n",
    "        self.selector =\"<none>\"\n",
    "        self.save_file =\"<none>\"\n",
    "    \n",
    "    def load(self, url):\n",
    "        self.url = url\n",
    "        return self\n",
    "    \n",
    "    def find(self, selector):\n",
    "        self.selector = selector\n",
    "        return self\n",
    "    \n",
    "    def save(self, save_file):\n",
    "        self.save_file = save_file\n",
    "        return self\n",
    "        \n",
    "    def complete(self):\n",
    "        print(f\"START {self.name}\")\n",
    "        print(f\"URL = {self.url}\")\n",
    "        print(f\"SELECTOR = {self.selector}\")\n",
    "        print(f\"SAVE FILE = {self.save_file}\")\n",
    "        print(f\"END = {self.name}\")\n",
    "    \n",
    "def main():\n",
    "    job = ScrapingJob(\"Job 1\")\n",
    "    job.load(\"<url>\").find(\"<target>\").save(\"<filename>\").complete()\n",
    "\n",
    "    job2 = ScrapingJob(\"Job 1\")\n",
    "    job2.load(\"<url>\").find(\"<target>\").complete()\n",
    "\n",
    "    job3 = ScrapingJob(\"Job 3\")\n",
    "    job3.load(\"<url>\").complete()\n",
    "\n",
    "\n",
    "if __name__ == \"__main__\":\n",
    "    main()"
   ]
  },
  {
   "cell_type": "code",
   "execution_count": null,
   "metadata": {},
   "outputs": [],
   "source": []
  }
 ],
 "metadata": {
  "kernelspec": {
   "display_name": "Python 3",
   "language": "python",
   "name": "python3"
  },
  "language_info": {
   "codemirror_mode": {
    "name": "ipython",
    "version": 3
   },
   "file_extension": ".py",
   "mimetype": "text/x-python",
   "name": "python",
   "nbconvert_exporter": "python",
   "pygments_lexer": "ipython3",
   "version": "3.7.6"
  }
 },
 "nbformat": 4,
 "nbformat_minor": 4
}
