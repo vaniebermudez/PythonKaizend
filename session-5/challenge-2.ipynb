{
 "cells": [
  {
   "cell_type": "code",
   "execution_count": 3,
   "metadata": {},
   "outputs": [
    {
     "name": "stdout",
     "output_type": "stream",
     "text": [
      "0\n",
      "Sleeping for 1 second(s)\n",
      "1\n",
      "Sleeping for 1 second(s)\n",
      "2\n",
      "Sleeping for 1 second(s)\n",
      "3\n",
      "Sleeping for 5 second(s)\n",
      "4\n",
      "Sleeping for 5 second(s)\n"
     ]
    }
   ],
   "source": [
    "from time import sleep\n",
    "import random\n",
    "\n",
    "def get_random_number():\n",
    "    return random.randint(1,5)\n",
    "\n",
    "def delay(seconds):\n",
    "    print(f\"Sleeping for {seconds} second(s)\")\n",
    "    sleep(seconds)\n",
    "    \n",
    "def main():\n",
    "    for i in range(5):\n",
    "        print(i)\n",
    "        delay(seconds = get_random_number())\n",
    "    \n",
    "if __name__ == \"__main__\":\n",
    "    main()"
   ]
  },
  {
   "cell_type": "code",
   "execution_count": null,
   "metadata": {},
   "outputs": [],
   "source": []
  }
 ],
 "metadata": {
  "kernelspec": {
   "display_name": "Python 3",
   "language": "python",
   "name": "python3"
  },
  "language_info": {
   "codemirror_mode": {
    "name": "ipython",
    "version": 3
   },
   "file_extension": ".py",
   "mimetype": "text/x-python",
   "name": "python",
   "nbconvert_exporter": "python",
   "pygments_lexer": "ipython3",
   "version": "3.7.6"
  }
 },
 "nbformat": 4,
 "nbformat_minor": 4
}
