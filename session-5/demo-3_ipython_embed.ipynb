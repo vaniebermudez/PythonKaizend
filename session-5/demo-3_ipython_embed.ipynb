{
 "cells": [
  {
   "cell_type": "code",
   "execution_count": 3,
   "metadata": {},
   "outputs": [
    {
     "name": "stdout",
     "output_type": "stream",
     "text": [
      "Python 3.7.6 (default, Jan  8 2020, 20:23:39) [MSC v.1916 64 bit (AMD64)]\n",
      "Type 'copyright', 'credits' or 'license' for more information\n",
      "IPython 7.12.0 -- An enhanced Interactive Python. Type '?' for help.\n",
      "\n",
      "In [1]: 1\n",
      "Out[1]: 1\n",
      "\n",
      "In [2]: 2\n",
      "Out[2]: 2\n",
      "\n",
      "In [3]: 3\n",
      "Out[3]: 3\n",
      "\n",
      "In [4]: 4\n",
      "Out[4]: 4\n",
      "\n",
      "In [5]: 4\n",
      "Out[5]: 4\n",
      "\n",
      "In [6]: 4\n",
      "Out[6]: 4\n",
      "\n",
      "In [7]: a\n",
      "Out[7]: 5\n",
      "\n",
      "In [8]: b\n",
      "Out[8]: 3\n",
      "\n",
      "In [9]: exit\n",
      "\n",
      "5\n",
      "3\n"
     ]
    }
   ],
   "source": [
    "from IPython import embed\n",
    "\n",
    "def main():\n",
    "    a = 5\n",
    "    b = 3\n",
    "    \n",
    "    embed()\n",
    "    \n",
    "    print(a)\n",
    "    print(b)\n",
    "    \n",
    "if __name__ == \"__main__\":\n",
    "    main()"
   ]
  },
  {
   "cell_type": "code",
   "execution_count": null,
   "metadata": {},
   "outputs": [],
   "source": []
  }
 ],
 "metadata": {
  "kernelspec": {
   "display_name": "Python 3",
   "language": "python",
   "name": "python3"
  },
  "language_info": {
   "codemirror_mode": {
    "name": "ipython",
    "version": 3
   },
   "file_extension": ".py",
   "mimetype": "text/x-python",
   "name": "python",
   "nbconvert_exporter": "python",
   "pygments_lexer": "ipython3",
   "version": "3.7.6"
  }
 },
 "nbformat": 4,
 "nbformat_minor": 4
}
