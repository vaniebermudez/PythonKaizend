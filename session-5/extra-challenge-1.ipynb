{
 "cells": [
  {
   "cell_type": "code",
   "execution_count": 1,
   "metadata": {},
   "outputs": [],
   "source": [
    "from time import sleep\n",
    "from functools import wraps\n",
    "from IPython import embed"
   ]
  },
  {
   "cell_type": "code",
   "execution_count": 5,
   "metadata": {},
   "outputs": [],
   "source": [
    "def delay(seconds):  #decorator\n",
    "    output = None\n",
    "    print(seconds)\n",
    "    \n",
    "    def inner_function(function):\n",
    "        #insert code here\n",
    "        \n",
    "        @wraps(function)\n",
    "        def wrapper(*args, **kwargs):\n",
    "            print(\"start\")\n",
    "            \n",
    "            embed()\n",
    "            \n",
    "            sleep(seconds)\n",
    "            output = function(*args, **kwargs)\n",
    "            print('end')\n",
    "            return output\n",
    "        \n",
    "        \n",
    "        return wrapper\n",
    "    \n",
    "    return inner_function"
   ]
  },
  {
   "cell_type": "code",
   "execution_count": 6,
   "metadata": {},
   "outputs": [
    {
     "name": "stdout",
     "output_type": "stream",
     "text": [
      "2\n",
      "2\n"
     ]
    }
   ],
   "source": [
    "@delay(seconds=2)\n",
    "def say_something(word):\n",
    "    print(word)\n",
    "    \n",
    "@delay(seconds=2)\n",
    "def say_another(word):\n",
    "    print(word)"
   ]
  },
  {
   "cell_type": "code",
   "execution_count": 7,
   "metadata": {},
   "outputs": [],
   "source": [
    "def main():\n",
    "    say_something('hello')\n",
    "    say_another('world')"
   ]
  },
  {
   "cell_type": "code",
   "execution_count": null,
   "metadata": {},
   "outputs": [
    {
     "name": "stdout",
     "output_type": "stream",
     "text": [
      "start\n",
      "Python 3.7.6 (default, Jan  8 2020, 20:23:39) [MSC v.1916 64 bit (AMD64)]\n",
      "Type 'copyright', 'credits' or 'license' for more information\n",
      "IPython 7.12.0 -- An enhanced Interactive Python. Type '?' for help.\n",
      "\n",
      "In [1]: function\n",
      "Out[1]: <function __main__.say_something(word)>\n",
      "\n",
      "In [2]: args\n",
      "Out[2]: ('hello',)\n",
      "\n"
     ]
    }
   ],
   "source": [
    "if __name__ == \"__main__\":\n",
    "    main()"
   ]
  },
  {
   "cell_type": "code",
   "execution_count": null,
   "metadata": {},
   "outputs": [],
   "source": []
  }
 ],
 "metadata": {
  "kernelspec": {
   "display_name": "Python 3",
   "language": "python",
   "name": "python3"
  },
  "language_info": {
   "codemirror_mode": {
    "name": "ipython",
    "version": 3
   },
   "file_extension": ".py",
   "mimetype": "text/x-python",
   "name": "python",
   "nbconvert_exporter": "python",
   "pygments_lexer": "ipython3",
   "version": "3.7.6"
  }
 },
 "nbformat": 4,
 "nbformat_minor": 4
}
