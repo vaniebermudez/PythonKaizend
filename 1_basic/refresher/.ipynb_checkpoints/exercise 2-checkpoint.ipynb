{
 "cells": [
  {
   "cell_type": "code",
   "execution_count": 1,
   "metadata": {},
   "outputs": [],
   "source": [
    "# If Statements and Comments Exercise\n",
    "\n",
    "# Make an if-else statement if year is between 2000 and 2100\n",
    "# (including both numbers), then print out:\n",
    "# \"Welcome to the 21st century\"\n",
    "# Else print out:\n",
    "# \"You are before or after the 21st century\"\n",
    "\n",
    "year = 1830"
   ]
  },
  {
   "cell_type": "code",
   "execution_count": 2,
   "metadata": {},
   "outputs": [
    {
     "name": "stdout",
     "output_type": "stream",
     "text": [
      "You are before or after the 21st century\n"
     ]
    }
   ],
   "source": [
    "if year > 2000 and year < 2100:\n",
    "    print(\"Welcome to the 21st century\")\n",
    "else:\n",
    "    print(\"You are before or after the 21st century\")"
   ]
  },
  {
   "cell_type": "code",
   "execution_count": null,
   "metadata": {},
   "outputs": [],
   "source": []
  }
 ],
 "metadata": {
  "kernelspec": {
   "display_name": "Python 3",
   "language": "python",
   "name": "python3"
  },
  "language_info": {
   "codemirror_mode": {
    "name": "ipython",
    "version": 3
   },
   "file_extension": ".py",
   "mimetype": "text/x-python",
   "name": "python",
   "nbconvert_exporter": "python",
   "pygments_lexer": "ipython3",
   "version": "3.7.1"
  }
 },
 "nbformat": 4,
 "nbformat_minor": 2
}
