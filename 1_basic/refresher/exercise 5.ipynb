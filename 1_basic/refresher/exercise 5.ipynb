{
 "cells": [
  {
   "cell_type": "code",
   "execution_count": 1,
   "metadata": {},
   "outputs": [],
   "source": [
    "# Challenge - Loops Exercise\n",
    "\n",
    "# Given a list of ints below called numbers.\n",
    "# Print every number that is greater than 90.\n",
    "\n",
    "numbers = [\n",
    "    76, 83, 16, 69, 52, 78, 10, 77, 45, 52,\n",
    "    32, 17, 58, 54, 79, 72, 55, 50, 81, 74,\n",
    "    45, 33, 38, 10, 40, 44, 70, 81, 79, 28,\n",
    "    83, 41, 14, 16, 27, 38, 20, 84, 24, 50,\n",
    "    59, 71, 1, 13, 56, 91, 29, 54, 65, 23,\n",
    "    60, 57, 13, 39, 58, 94, 94, 42, 46, 58,\n",
    "    59, 29, 69, 60, 83, 9, 83, 5, 64, 70,\n",
    "    55, 89, 67, 89, 70, 8, 90, 17, 48, 17,\n",
    "    94, 18, 98, 72, 96, 26, 13, 7, 58, 67,\n",
    "    38, 48, 43, 98, 65, 8, 74, 44, 92\n",
    "]"
   ]
  },
  {
   "cell_type": "code",
   "execution_count": 2,
   "metadata": {},
   "outputs": [
    {
     "name": "stdout",
     "output_type": "stream",
     "text": [
      "91\n",
      "94\n",
      "94\n",
      "94\n",
      "98\n",
      "96\n",
      "98\n",
      "92\n"
     ]
    }
   ],
   "source": [
    "for number in numbers:\n",
    "    if number > 90:\n",
    "        print(number)"
   ]
  },
  {
   "cell_type": "code",
   "execution_count": null,
   "metadata": {},
   "outputs": [],
   "source": []
  }
 ],
 "metadata": {
  "kernelspec": {
   "display_name": "Python 3",
   "language": "python",
   "name": "python3"
  },
  "language_info": {
   "codemirror_mode": {
    "name": "ipython",
    "version": 3
   },
   "file_extension": ".py",
   "mimetype": "text/x-python",
   "name": "python",
   "nbconvert_exporter": "python",
   "pygments_lexer": "ipython3",
   "version": "3.7.1"
  }
 },
 "nbformat": 4,
 "nbformat_minor": 2
}
