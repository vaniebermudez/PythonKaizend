{
 "cells": [
  {
   "cell_type": "code",
   "execution_count": 13,
   "metadata": {},
   "outputs": [],
   "source": [
    "# Challenge - Dictionaries Exercise\n",
    "#\n",
    "# Given two lists - words and definitions,\n",
    "# Create a dictionary called cooldictionary where you\n",
    "# use words for keys and definitions for values\n",
    "\n",
    "\n",
    "words = [\"PoGo\",\"Spange\",\"Lie-Fi\"]\n",
    "definitions = [\"Slang for Pokemon Go\",\"To collect spare change, either from couches, passerbys on the street or any numerous other ways and means\",\"When your phone or tablet indicates that you are connected to a wireless network, however you are still unable to load webpages or use any internet services with your device\"]\n",
    "\n",
    "#cooldictionary = {\"PoGo\": \"Slang for Pokemon Go\", \"Spange\": \"To collect spare change, either from couches, passerbys on the street or any numerous other ways and means\", \"Lie-Fi\": \"When your phone or tablet indicates that you are connected to a wireless network, however you are still unable to load webpages or use any internet services with your device\"}\n"
   ]
  },
  {
   "cell_type": "code",
   "execution_count": 17,
   "metadata": {},
   "outputs": [],
   "source": [
    "cooldictionary = {}\n",
    "\n",
    "for i in range (0,2):\n",
    "    cooldictionary1.update({words[i]:definitions[i]})"
   ]
  },
  {
   "cell_type": "code",
   "execution_count": 18,
   "metadata": {},
   "outputs": [
    {
     "data": {
      "text/plain": [
       "{'PoGo': 'Slang for Pokemon Go',\n",
       " 'Spange': 'To collect spare change, either from couches, passerbys on the street or any numerous other ways and means'}"
      ]
     },
     "execution_count": 18,
     "metadata": {},
     "output_type": "execute_result"
    }
   ],
   "source": [
    "cooldictionary"
   ]
  },
  {
   "cell_type": "code",
   "execution_count": null,
   "metadata": {},
   "outputs": [],
   "source": []
  }
 ],
 "metadata": {
  "kernelspec": {
   "display_name": "Python 3",
   "language": "python",
   "name": "python3"
  },
  "language_info": {
   "codemirror_mode": {
    "name": "ipython",
    "version": 3
   },
   "file_extension": ".py",
   "mimetype": "text/x-python",
   "name": "python",
   "nbconvert_exporter": "python",
   "pygments_lexer": "ipython3",
   "version": "3.7.1"
  }
 },
 "nbformat": 4,
 "nbformat_minor": 2
}
