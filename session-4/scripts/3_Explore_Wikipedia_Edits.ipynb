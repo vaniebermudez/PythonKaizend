{
 "cells": [
  {
   "cell_type": "markdown",
   "metadata": {},
   "source": [
    "# Explore Wikipedia Edits"
   ]
  },
  {
   "cell_type": "markdown",
   "metadata": {},
   "source": [
    "# 3_Explore_Wikipedia_Edits.ipynb"
   ]
  },
  {
   "cell_type": "markdown",
   "metadata": {},
   "source": [
    "# Import libraries"
   ]
  },
  {
   "cell_type": "markdown",
   "metadata": {},
   "source": [
    "1. pandas - Python Data Analysis Library\n",
    "2. numpy - Numerical Python"
   ]
  },
  {
   "cell_type": "code",
   "execution_count": 2,
   "metadata": {},
   "outputs": [],
   "source": [
    "import pandas as pd\n",
    "import numpy as np"
   ]
  },
  {
   "cell_type": "markdown",
   "metadata": {},
   "source": [
    "# Read in a data from CSV file"
   ]
  },
  {
   "cell_type": "code",
   "execution_count": 6,
   "metadata": {},
   "outputs": [],
   "source": [
    "fn = \"../input/wikipedia_edits.csv.zip\"\n",
    "df = pd.read_csv(fn)"
   ]
  },
  {
   "cell_type": "markdown",
   "metadata": {},
   "source": [
    "# Check counts"
   ]
  },
  {
   "cell_type": "markdown",
   "metadata": {},
   "source": [
    "Count unique Wikipedia edits - indexed by revid"
   ]
  },
  {
   "cell_type": "code",
   "execution_count": 7,
   "metadata": {},
   "outputs": [
    {
     "data": {
      "text/plain": [
       "789343"
      ]
     },
     "execution_count": 7,
     "metadata": {},
     "output_type": "execute_result"
    }
   ],
   "source": [
    "len(pd.unique(df['revid']))\n",
    "#equal to the no. of rows in dataframe, as expected"
   ]
  },
  {
   "cell_type": "markdown",
   "metadata": {},
   "source": [
    "Count unique Wikipedia edits"
   ]
  },
  {
   "cell_type": "code",
   "execution_count": 9,
   "metadata": {},
   "outputs": [
    {
     "data": {
      "text/plain": [
       "82"
      ]
     },
     "execution_count": 9,
     "metadata": {},
     "output_type": "execute_result"
    }
   ],
   "source": [
    "len(pd.unique(df['title']))\n",
    "# equal to the no. of Forbes celebrity List recipients, as expected"
   ]
  },
  {
   "cell_type": "markdown",
   "metadata": {},
   "source": [
    "Count unique users"
   ]
  },
  {
   "cell_type": "code",
   "execution_count": 10,
   "metadata": {},
   "outputs": [
    {
     "data": {
      "text/plain": [
       "204528"
      ]
     },
     "execution_count": 10,
     "metadata": {},
     "output_type": "execute_result"
    }
   ],
   "source": [
    "len(pd.unique(df['user']))"
   ]
  },
  {
   "cell_type": "code",
   "execution_count": 11,
   "metadata": {},
   "outputs": [
    {
     "data": {
      "text/plain": [
       "69829"
      ]
     },
     "execution_count": 11,
     "metadata": {},
     "output_type": "execute_result"
    }
   ],
   "source": [
    "len(pd.unique(df['userid']))"
   ]
  },
  {
   "cell_type": "markdown",
   "metadata": {},
   "source": [
    "Some investigation on users:"
   ]
  },
  {
   "cell_type": "code",
   "execution_count": 14,
   "metadata": {},
   "outputs": [
    {
     "data": {
      "text/plain": [
       "<bound method NDFrame.head of GabeMc            4584\n",
       "Popeye191         4560\n",
       "SNUGGUMS          4493\n",
       "Andreasegde       4250\n",
       "ClueBot NG        2940\n",
       "                  ... \n",
       "67.101.59.85         1\n",
       "72.138.226.185       1\n",
       "217.87.202.68        1\n",
       "Gigamaligabyte       1\n",
       "Pagasaeus            1\n",
       "Name: user, Length: 204527, dtype: int64>"
      ]
     },
     "execution_count": 14,
     "metadata": {},
     "output_type": "execute_result"
    }
   ],
   "source": [
    "df['user'].value_counts().head"
   ]
  },
  {
   "cell_type": "code",
   "execution_count": 16,
   "metadata": {},
   "outputs": [
    {
     "data": {
      "text/plain": [
       "<bound method NDFrame.head of 0.0           243105\n",
       "11243047.0      4584\n",
       "6138283.0       4560\n",
       "19269270.0      4493\n",
       "1228034.0       4250\n",
       "               ...  \n",
       "15762863.0         1\n",
       "6666348.0          1\n",
       "1666599.0          1\n",
       "3940512.0          1\n",
       "4422919.0          1\n",
       "Name: userid, Length: 69828, dtype: int64>"
      ]
     },
     "execution_count": 16,
     "metadata": {},
     "output_type": "execute_result"
    }
   ],
   "source": [
    "df['userid'].value_counts().head\n",
    "# For anonymous users, userid = 0"
   ]
  },
  {
   "cell_type": "code",
   "execution_count": 19,
   "metadata": {},
   "outputs": [
    {
     "data": {
      "text/html": [
       "<div>\n",
       "<style scoped>\n",
       "    .dataframe tbody tr th:only-of-type {\n",
       "        vertical-align: middle;\n",
       "    }\n",
       "\n",
       "    .dataframe tbody tr th {\n",
       "        vertical-align: top;\n",
       "    }\n",
       "\n",
       "    .dataframe thead th {\n",
       "        text-align: right;\n",
       "    }\n",
       "</style>\n",
       "<table border=\"1\" class=\"dataframe\">\n",
       "  <thead>\n",
       "    <tr style=\"text-align: right;\">\n",
       "      <th></th>\n",
       "      <th>title</th>\n",
       "      <th>parentid</th>\n",
       "      <th>revid</th>\n",
       "      <th>timestamp</th>\n",
       "      <th>user</th>\n",
       "      <th>userid</th>\n",
       "      <th>size</th>\n",
       "      <th>recipient</th>\n",
       "      <th>year</th>\n",
       "      <th>rank</th>\n",
       "      <th>country</th>\n",
       "      <th>career</th>\n",
       "      <th>tied</th>\n",
       "    </tr>\n",
       "  </thead>\n",
       "  <tbody>\n",
       "    <tr>\n",
       "      <th>2643</th>\n",
       "      <td>50_Cent</td>\n",
       "      <td>219167675</td>\n",
       "      <td>219176128</td>\n",
       "      <td>2008-06-13T22:43:27Z</td>\n",
       "      <td>209.161.4.106</td>\n",
       "      <td>0.0</td>\n",
       "      <td>48386</td>\n",
       "      <td>50 Cent</td>\n",
       "      <td>2006</td>\n",
       "      <td>8</td>\n",
       "      <td>United States</td>\n",
       "      <td>Musician</td>\n",
       "      <td>0</td>\n",
       "    </tr>\n",
       "    <tr>\n",
       "      <th>2645</th>\n",
       "      <td>50_Cent</td>\n",
       "      <td>219161723</td>\n",
       "      <td>219167119</td>\n",
       "      <td>2008-06-13T21:46:42Z</td>\n",
       "      <td>65.78.203.162</td>\n",
       "      <td>0.0</td>\n",
       "      <td>49406</td>\n",
       "      <td>50 Cent</td>\n",
       "      <td>2006</td>\n",
       "      <td>8</td>\n",
       "      <td>United States</td>\n",
       "      <td>Musician</td>\n",
       "      <td>0</td>\n",
       "    </tr>\n",
       "    <tr>\n",
       "      <th>2649</th>\n",
       "      <td>50_Cent</td>\n",
       "      <td>219119959</td>\n",
       "      <td>219120271</td>\n",
       "      <td>2008-06-13T17:44:54Z</td>\n",
       "      <td>70.109.117.173</td>\n",
       "      <td>0.0</td>\n",
       "      <td>613</td>\n",
       "      <td>50 Cent</td>\n",
       "      <td>2006</td>\n",
       "      <td>8</td>\n",
       "      <td>United States</td>\n",
       "      <td>Musician</td>\n",
       "      <td>0</td>\n",
       "    </tr>\n",
       "    <tr>\n",
       "      <th>2650</th>\n",
       "      <td>50_Cent</td>\n",
       "      <td>219112543</td>\n",
       "      <td>219119959</td>\n",
       "      <td>2008-06-13T17:43:22Z</td>\n",
       "      <td>70.109.117.173</td>\n",
       "      <td>0.0</td>\n",
       "      <td>49436</td>\n",
       "      <td>50 Cent</td>\n",
       "      <td>2006</td>\n",
       "      <td>8</td>\n",
       "      <td>United States</td>\n",
       "      <td>Musician</td>\n",
       "      <td>0</td>\n",
       "    </tr>\n",
       "    <tr>\n",
       "      <th>2652</th>\n",
       "      <td>50_Cent</td>\n",
       "      <td>219111996</td>\n",
       "      <td>219112512</td>\n",
       "      <td>2008-06-13T17:00:52Z</td>\n",
       "      <td>75.3.141.196</td>\n",
       "      <td>0.0</td>\n",
       "      <td>49427</td>\n",
       "      <td>50 Cent</td>\n",
       "      <td>2006</td>\n",
       "      <td>8</td>\n",
       "      <td>United States</td>\n",
       "      <td>Musician</td>\n",
       "      <td>0</td>\n",
       "    </tr>\n",
       "  </tbody>\n",
       "</table>\n",
       "</div>"
      ],
      "text/plain": [
       "        title   parentid      revid             timestamp            user  \\\n",
       "2643  50_Cent  219167675  219176128  2008-06-13T22:43:27Z   209.161.4.106   \n",
       "2645  50_Cent  219161723  219167119  2008-06-13T21:46:42Z   65.78.203.162   \n",
       "2649  50_Cent  219119959  219120271  2008-06-13T17:44:54Z  70.109.117.173   \n",
       "2650  50_Cent  219112543  219119959  2008-06-13T17:43:22Z  70.109.117.173   \n",
       "2652  50_Cent  219111996  219112512  2008-06-13T17:00:52Z    75.3.141.196   \n",
       "\n",
       "      userid   size recipient  year  rank        country    career  tied  \n",
       "2643     0.0  48386   50 Cent  2006     8  United States  Musician     0  \n",
       "2645     0.0  49406   50 Cent  2006     8  United States  Musician     0  \n",
       "2649     0.0    613   50 Cent  2006     8  United States  Musician     0  \n",
       "2650     0.0  49436   50 Cent  2006     8  United States  Musician     0  \n",
       "2652     0.0  49427   50 Cent  2006     8  United States  Musician     0  "
      ]
     },
     "execution_count": 19,
     "metadata": {},
     "output_type": "execute_result"
    }
   ],
   "source": [
    "df[df[\"userid\"]==0].head()\n",
    "# For anonymous users, user = IP address"
   ]
  },
  {
   "cell_type": "markdown",
   "metadata": {},
   "source": [
    "Q: Which celebrities have the most number of Wikipedia edits?"
   ]
  },
  {
   "cell_type": "code",
   "execution_count": 22,
   "metadata": {},
   "outputs": [
    {
     "data": {
      "text/plain": [
       "Roger_Federer     24641\n",
       "Britney_Spears    24640\n",
       "The_Beatles       23342\n",
       "Beyonce           20811\n",
       "Eminem            19899\n",
       "Name: title, dtype: int64"
      ]
     },
     "execution_count": 22,
     "metadata": {},
     "output_type": "execute_result"
    }
   ],
   "source": [
    "df['title'].value_counts().head()"
   ]
  },
  {
   "cell_type": "code",
   "execution_count": 23,
   "metadata": {},
   "outputs": [
    {
     "data": {
      "text/plain": [
       "Kylie_Jenner       3056\n",
       "Judy_Sheindlin     2762\n",
       "Phil_McGraw        2638\n",
       "Paula_Deen         2563\n",
       "James_Patterson    2543\n",
       "Name: title, dtype: int64"
      ]
     },
     "execution_count": 23,
     "metadata": {},
     "output_type": "execute_result"
    }
   ],
   "source": [
    "df['title'].value_counts().tail()"
   ]
  }
 ],
 "metadata": {
  "kernelspec": {
   "display_name": "Python 3",
   "language": "python",
   "name": "python3"
  },
  "language_info": {
   "codemirror_mode": {
    "name": "ipython",
    "version": 3
   },
   "file_extension": ".py",
   "mimetype": "text/x-python",
   "name": "python",
   "nbconvert_exporter": "python",
   "pygments_lexer": "ipython3",
   "version": "3.7.6"
  }
 },
 "nbformat": 4,
 "nbformat_minor": 4
}
